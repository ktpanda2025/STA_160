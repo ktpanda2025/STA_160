{
  "cells": [
    {
      "cell_type": "markdown",
      "metadata": {
        "id": "1-jbF7EUxJAi"
      },
      "source": [
        "# STA160 2024 Fall Discussion 01: Python Basics"
      ]
    },
    {
      "cell_type": "markdown",
      "metadata": {
        "id": "Ce475dWyxJAj"
      },
      "source": [
        "## References\n",
        "\n",
        "* Python for Data Analysis\n",
        "* Python Data Science Handbook\n",
        "* Hands-On Machine Learning with Scikit-Learn & TensorFlow"
      ]
    },
    {
      "cell_type": "markdown",
      "metadata": {
        "id": "Db7W1qQJxJAj"
      },
      "source": [
        "## Preparation\n",
        "\n",
        "The primary programming language for the discussion is **Python 3**.\n",
        "\n",
        "If your operating system is Windows or OS X, the best way to set up Python 3 is to get Anaconda. Anaconda is a Python distribution designed specifically for scientific computing. Anaconda includes many of the packages we'll use this quarter. You can find Anaconda at: <https://www.anaconda.com/download/>\n",
        "\n",
        "If your operating system is Linux, the best way to set up Python 3 is through your distribution's package manager. You'll also need to install Jupyter this way.\n",
        "### Python Environment Setup\n",
        "\n",
        "For this class, installing [Anaconda](https://www.anaconda.com/) for setting up your programming environment is strongly recommended.\n",
        "\n",
        "Several tools you may use for programming:\n",
        "\n",
        "- [Jupyter Notebook](https://jupyter.org/): a great platform to organize your project with Markdown and Python. Jupyter notebooks enable you to write text and code in the same document, and to run the code to display the results. Jupyter notebooks are very popular in the data science community and are convenient for data analysis.\n",
        "- [PyCharm](https://www.jetbrains.com/pycharm/): a great IDE for Python.\n",
        "\n",
        "\n",
        "(Advanced) Text Editors you can use for coding:\n",
        "\n",
        "- [Vim](https://www.vim.org/)\n",
        "- [Sublime Text 3](https://www.sublimetext.com/)\n",
        "- [Visual Studio Code](https://code.visualstudio.com/)\n",
        "\n",
        "[Markdown Syntax](https://www.markdownguide.org/basic-syntax/)\n",
        "[Markdown Cheatsheet](https://www.markdownguide.org/cheat-sheet/)\n",
        "\n",
        "\n",
        "### Python Basic Syntax\n",
        "\n",
        "Please quick review all the listed commands.\n",
        "\n",
        "- Operators: `+`, `-`, `*`, `**`, `/`, `//`, `=`, `==`, `is`, `in`, ...\n",
        "- Control flow tools: `if...elif...else...`, `for`, `while`, `break`, `continue`, `pass`, ...\n",
        "\n",
        "### Python Basic Data Structures\n",
        "\n",
        "To warm up, we summarize several basic data structures in Python. Below are four commonly-used structures.\n",
        "\n",
        "#### Strings"
      ]
    },
    {
      "cell_type": "markdown",
      "metadata": {
        "id": "drfwHA4txJAk"
      },
      "source": [
        "Strings in Python are arrays of bytes representing unicode characters.\n",
        "Square brackets can be used to access elements of the string. Elements are numbered starting from 0, not 1 (unlike R)."
      ]
    },
    {
      "cell_type": "code",
      "execution_count": 1,
      "metadata": {
        "colab": {
          "base_uri": "https://localhost:8080/"
        },
        "id": "mD0NTooLxJAk",
        "outputId": "991c3010-6966-41da-d7c7-3407f8d46546"
      },
      "outputs": [
        {
          "name": "stdout",
          "output_type": "stream",
          "text": [
            "P\n",
            "y\n",
            "n\n",
            "o\n"
          ]
        }
      ],
      "source": [
        "s='Python'\n",
        "print(s[0])  # select the first character\n",
        "print(s[1])  # select the second character\n",
        "print(s[-1]) # select the last character\n",
        "print(s[-2]) # select the second last character"
      ]
    },
    {
      "cell_type": "markdown",
      "metadata": {
        "id": "8HAiA4dkxJAk"
      },
      "source": [
        "You can get a slice (multiple elements) of the container with the : operator.\n",
        "The first number is included, but the last number is not (unlike R)."
      ]
    },
    {
      "cell_type": "code",
      "execution_count": 2,
      "metadata": {
        "colab": {
          "base_uri": "https://localhost:8080/",
          "height": 35
        },
        "id": "eT7LApv-xJAk",
        "outputId": "9c9a2daa-97e6-4bbf-e2cd-6df19549bbe1"
      },
      "outputs": [
        {
          "data": {
            "application/vnd.google.colaboratory.intrinsic+json": {
              "type": "string"
            },
            "text/plain": [
              "'Pyth'"
            ]
          },
          "execution_count": 2,
          "metadata": {},
          "output_type": "execute_result"
        }
      ],
      "source": [
        "s[0:4]   # from s[0] to s[3]"
      ]
    },
    {
      "cell_type": "code",
      "execution_count": 3,
      "metadata": {
        "colab": {
          "base_uri": "https://localhost:8080/",
          "height": 35
        },
        "id": "Ykp31JRkxJAl",
        "outputId": "89674ebf-e06f-49a6-b390-0275a5a952ec"
      },
      "outputs": [
        {
          "data": {
            "application/vnd.google.colaboratory.intrinsic+json": {
              "type": "string"
            },
            "text/plain": [
              "'ython'"
            ]
          },
          "execution_count": 3,
          "metadata": {},
          "output_type": "execute_result"
        }
      ],
      "source": [
        "s[1:]    # from s[1] to end"
      ]
    },
    {
      "cell_type": "code",
      "execution_count": 4,
      "metadata": {
        "colab": {
          "base_uri": "https://localhost:8080/",
          "height": 35
        },
        "id": "3DAd-VhdxJAl",
        "outputId": "71b21320-e5ab-4ff0-9dab-43236c03a77c"
      },
      "outputs": [
        {
          "data": {
            "application/vnd.google.colaboratory.intrinsic+json": {
              "type": "string"
            },
            "text/plain": [
              "'Pyth'"
            ]
          },
          "execution_count": 4,
          "metadata": {},
          "output_type": "execute_result"
        }
      ],
      "source": [
        "s[:4]    # from s[0] to s[3]"
      ]
    },
    {
      "cell_type": "code",
      "execution_count": 5,
      "metadata": {
        "colab": {
          "base_uri": "https://localhost:8080/",
          "height": 35
        },
        "id": "P9X8sQiLxJAl",
        "outputId": "4f1e1673-f8f5-4664-9c14-90c6125d62db"
      },
      "outputs": [
        {
          "data": {
            "application/vnd.google.colaboratory.intrinsic+json": {
              "type": "string"
            },
            "text/plain": [
              "'Python'"
            ]
          },
          "execution_count": 5,
          "metadata": {},
          "output_type": "execute_result"
        }
      ],
      "source": [
        "s[:]     # from a[0] to end"
      ]
    },
    {
      "cell_type": "code",
      "execution_count": 6,
      "metadata": {
        "colab": {
          "base_uri": "https://localhost:8080/",
          "height": 35
        },
        "id": "Ya2eoUAIxJAl",
        "outputId": "da84b891-5c91-4570-df65-feb2570587e4"
      },
      "outputs": [
        {
          "data": {
            "application/vnd.google.colaboratory.intrinsic+json": {
              "type": "string"
            },
            "text/plain": [
              "'Pto'"
            ]
          },
          "execution_count": 6,
          "metadata": {},
          "output_type": "execute_result"
        }
      ],
      "source": [
        "s[0:5:2]  # from s[0] to s[4] with increment 2, so returns s[0] s[2] s[4]"
      ]
    },
    {
      "cell_type": "code",
      "execution_count": 7,
      "metadata": {
        "colab": {
          "base_uri": "https://localhost:8080/"
        },
        "id": "yADd5kUzxJAl",
        "outputId": "4a7b9ac9-1aa0-44e5-cc6b-1fa0f2e4602c"
      },
      "outputs": [
        {
          "data": {
            "text/plain": [
              "6"
            ]
          },
          "execution_count": 7,
          "metadata": {},
          "output_type": "execute_result"
        }
      ],
      "source": [
        "len(s) # returns the length of a string"
      ]
    },
    {
      "cell_type": "code",
      "execution_count": 8,
      "metadata": {
        "colab": {
          "base_uri": "https://localhost:8080/",
          "height": 35
        },
        "id": "uGM_ZFTHxJAl",
        "outputId": "be15eb53-0941-46a4-dcf4-8ec965cfedf6"
      },
      "outputs": [
        {
          "data": {
            "application/vnd.google.colaboratory.intrinsic+json": {
              "type": "string"
            },
            "text/plain": [
              "'python'"
            ]
          },
          "execution_count": 8,
          "metadata": {},
          "output_type": "execute_result"
        }
      ],
      "source": [
        "s.lower() # returns the string in lower case"
      ]
    },
    {
      "cell_type": "code",
      "execution_count": 9,
      "metadata": {
        "colab": {
          "base_uri": "https://localhost:8080/",
          "height": 35
        },
        "id": "CcWjAJs3xJAl",
        "outputId": "8abfbb32-3e50-4121-8168-1a5ace656292"
      },
      "outputs": [
        {
          "data": {
            "application/vnd.google.colaboratory.intrinsic+json": {
              "type": "string"
            },
            "text/plain": [
              "'PYTHON'"
            ]
          },
          "execution_count": 9,
          "metadata": {},
          "output_type": "execute_result"
        }
      ],
      "source": [
        "s.upper() # returns the string in upper case"
      ]
    },
    {
      "cell_type": "code",
      "execution_count": 10,
      "metadata": {
        "colab": {
          "base_uri": "https://localhost:8080/",
          "height": 35
        },
        "id": "98ReaAb3xJAl",
        "outputId": "66a6ad95-2cba-4814-c61a-39fbca2e9738"
      },
      "outputs": [
        {
          "data": {
            "application/vnd.google.colaboratory.intrinsic+json": {
              "type": "string"
            },
            "text/plain": [
              "'Pytorch'"
            ]
          },
          "execution_count": 10,
          "metadata": {},
          "output_type": "execute_result"
        }
      ],
      "source": [
        "s.replace('hon','orch') # replaces a string with another string"
      ]
    },
    {
      "cell_type": "markdown",
      "metadata": {
        "id": "nj-SyzQjxJAm"
      },
      "source": [
        "## List, Tuple, Set and Dictionary\n",
        "There are four collection data types in the Python programming language:\n",
        "\n",
        "__List__ is a collection which is ordered and changeable. Allows duplicate members.\n",
        "\n",
        "__Tuple__ is a collection which is ordered and unchangeable. Allows duplicate members.\n",
        "\n",
        "__Set__ is a collection which is unordered and unindexed. No duplicate members.\n",
        "\n",
        "__Dictionary__ is a collection which is unordered, changeable and indexed. No duplicate members.        "
      ]
    },
    {
      "cell_type": "markdown",
      "metadata": {
        "id": "uaUNaoE2M8rR"
      },
      "source": [
        "#### List"
      ]
    },
    {
      "cell_type": "code",
      "execution_count": 11,
      "metadata": {
        "colab": {
          "base_uri": "https://localhost:8080/"
        },
        "id": "6OxM5s95xJAm",
        "outputId": "9af8d905-2975-4c71-b13a-c40f1eec17b9"
      },
      "outputs": [
        {
          "name": "stdout",
          "output_type": "stream",
          "text": [
            "[1, 'a', 3.0]\n"
          ]
        }
      ],
      "source": [
        "L=[1,'a',3.0]  # list can have different types\n",
        "print(L)"
      ]
    },
    {
      "cell_type": "code",
      "execution_count": 12,
      "metadata": {
        "colab": {
          "base_uri": "https://localhost:8080/",
          "height": 35
        },
        "id": "HslZPpJzxJAm",
        "outputId": "85ddfa82-542b-42a6-8019-7c4df820de00"
      },
      "outputs": [
        {
          "data": {
            "application/vnd.google.colaboratory.intrinsic+json": {
              "type": "string"
            },
            "text/plain": [
              "'a'"
            ]
          },
          "execution_count": 12,
          "metadata": {},
          "output_type": "execute_result"
        }
      ],
      "source": [
        "L[1]        # selection"
      ]
    },
    {
      "cell_type": "code",
      "execution_count": 13,
      "metadata": {
        "colab": {
          "base_uri": "https://localhost:8080/"
        },
        "id": "fyw_yPBPxJAm",
        "outputId": "39c1405d-e0e9-4cba-9d88-71849c8e8311"
      },
      "outputs": [
        {
          "data": {
            "text/plain": [
              "[1, 'a', 3.0]"
            ]
          },
          "execution_count": 13,
          "metadata": {},
          "output_type": "execute_result"
        }
      ],
      "source": [
        "L[0:3]      # slicing"
      ]
    },
    {
      "cell_type": "code",
      "execution_count": 14,
      "metadata": {
        "colab": {
          "base_uri": "https://localhost:8080/"
        },
        "id": "8i_wuk4bxJAm",
        "outputId": "84023aa7-8d39-48c6-b9e1-3cb9b682a428"
      },
      "outputs": [
        {
          "name": "stdout",
          "output_type": "stream",
          "text": [
            "[1, 'a', 3.0, 6]\n"
          ]
        }
      ],
      "source": [
        "L.append(6) # append(): add an element at the end of the list\n",
        "print(L)"
      ]
    },
    {
      "cell_type": "code",
      "execution_count": 15,
      "metadata": {
        "colab": {
          "base_uri": "https://localhost:8080/"
        },
        "id": "n4puZJH_xJAm",
        "outputId": "6f258e58-7f77-4400-f0c3-6e0008f6af8a"
      },
      "outputs": [
        {
          "name": "stdout",
          "output_type": "stream",
          "text": [
            "[1, 'a', 3.0, 6, 1, 2, 3, 4]\n",
            "8\n"
          ]
        }
      ],
      "source": [
        "L.extend([1,2,3,4]) # extend(): add the elements of a list to the end of the current list\n",
        "print(L)\n",
        "print(len(L))"
      ]
    },
    {
      "cell_type": "code",
      "execution_count": 16,
      "metadata": {
        "colab": {
          "base_uri": "https://localhost:8080/"
        },
        "id": "ykP_x7b0xJAm",
        "outputId": "5d010d86-4d91-4ed8-fe99-3fa8e575cd0c"
      },
      "outputs": [
        {
          "name": "stdout",
          "output_type": "stream",
          "text": [
            "[1, 'a', 3.0, 6, [1, 2, 3, 4]]\n",
            "5\n"
          ]
        }
      ],
      "source": [
        "L=[1,'a',3.0]\n",
        "L.append(6)\n",
        "L.append([1,2,3,4])\n",
        "print(L)\n",
        "print(len(L))"
      ]
    },
    {
      "cell_type": "code",
      "execution_count": 17,
      "metadata": {
        "colab": {
          "base_uri": "https://localhost:8080/"
        },
        "id": "sMd6N4ooxJAm",
        "outputId": "16feb340-9a00-4619-bf67-0afdc21c8cec"
      },
      "outputs": [
        {
          "name": "stdout",
          "output_type": "stream",
          "text": [
            "[1, 'a', 'b', 3]\n"
          ]
        }
      ],
      "source": [
        "L=[1,'a',3]\n",
        "L.insert(2,'b') # insert() adds an element at the specified position\n",
        "print(L)"
      ]
    },
    {
      "cell_type": "code",
      "execution_count": 18,
      "metadata": {
        "colab": {
          "base_uri": "https://localhost:8080/"
        },
        "id": "GxmUv0UrxJAm",
        "outputId": "c7d9ed23-3f1e-468b-bf6b-7ce58e9fb96d"
      },
      "outputs": [
        {
          "name": "stdout",
          "output_type": "stream",
          "text": [
            "[1, 'a', 'b', 3]\n",
            "[1, 'b', 3]\n"
          ]
        }
      ],
      "source": [
        "print(L)\n",
        "L.pop(1)      # pop(): removes the element at the specified position\n",
        "print(L)      # remove L[1]"
      ]
    },
    {
      "cell_type": "code",
      "execution_count": 19,
      "metadata": {
        "colab": {
          "base_uri": "https://localhost:8080/"
        },
        "id": "R5SfVvOxxJAp",
        "outputId": "d286e3ef-f81d-492a-cd12-39664b30faa4"
      },
      "outputs": [
        {
          "name": "stdout",
          "output_type": "stream",
          "text": [
            "[1, 'b', 3]\n",
            "[1, 'b']\n"
          ]
        }
      ],
      "source": [
        "print(L)\n",
        "L.pop()       # remove L[-1]\n",
        "print(L)"
      ]
    },
    {
      "cell_type": "code",
      "execution_count": 20,
      "metadata": {
        "colab": {
          "base_uri": "https://localhost:8080/"
        },
        "id": "D4lHwlTExJAp",
        "outputId": "3e90607f-d4d7-4860-995b-9491f8fbce77"
      },
      "outputs": [
        {
          "name": "stdout",
          "output_type": "stream",
          "text": [
            "[1, 5, 6, 2, 7, 8, 3]\n"
          ]
        }
      ],
      "source": [
        "L=[1,5,6,3,2,7,8,3]\n",
        "L.remove(3)  # remove(): removes the first occurrence of the element with the specified value\n",
        "print(L)     # remove the first value 3"
      ]
    },
    {
      "cell_type": "code",
      "execution_count": 21,
      "metadata": {
        "colab": {
          "base_uri": "https://localhost:8080/"
        },
        "id": "bTpIROhIxJAp",
        "outputId": "c6ed46a8-a760-477a-a8f7-5dbfcd814c81"
      },
      "outputs": [
        {
          "name": "stdout",
          "output_type": "stream",
          "text": [
            "[1, 5, 6, 2, 7, 8, 3]\n",
            "[3, 8, 7, 2, 6, 5, 1]\n"
          ]
        }
      ],
      "source": [
        "print(L)\n",
        "L.reverse()  # reverse(): reverses the order of the list\n",
        "print(L)"
      ]
    },
    {
      "cell_type": "code",
      "execution_count": 22,
      "metadata": {
        "colab": {
          "base_uri": "https://localhost:8080/"
        },
        "id": "Bj2JBIvsxJAq",
        "outputId": "b6a97a4e-e7c7-4cc9-c9ef-df4d6f67c4fa"
      },
      "outputs": [
        {
          "name": "stdout",
          "output_type": "stream",
          "text": [
            "[1, 2, 3, 5, 6, 7, 8]\n",
            "[8, 7, 6, 5, 3, 2, 1]\n"
          ]
        }
      ],
      "source": [
        "L.sort()              # sort(): sorts the list ascending by default\n",
        "print(L)\n",
        "\n",
        "L.sort(reverse=True)  # sort descending\n",
        "print(L)"
      ]
    },
    {
      "cell_type": "markdown",
      "metadata": {
        "id": "mMVqylLnxJAq"
      },
      "source": [
        "### Tuple (a unchangeable list)"
      ]
    },
    {
      "cell_type": "code",
      "execution_count": 23,
      "metadata": {
        "colab": {
          "base_uri": "https://localhost:8080/"
        },
        "id": "DSKWyPM8xJAq",
        "outputId": "29f88b4e-c5ed-44c0-f867-6fd2bcb17316"
      },
      "outputs": [
        {
          "name": "stdout",
          "output_type": "stream",
          "text": [
            "(1, 3, 5, 6)\n",
            "<class 'tuple'>\n"
          ]
        }
      ],
      "source": [
        "T=(1,3,5,6)\n",
        "print(T)\n",
        "print(type(T))"
      ]
    },
    {
      "cell_type": "code",
      "execution_count": 24,
      "metadata": {
        "colab": {
          "base_uri": "https://localhost:8080/"
        },
        "id": "FDmCpOn4xJAq",
        "outputId": "891b481e-c5bb-4395-b4b1-38d4ef434850"
      },
      "outputs": [
        {
          "data": {
            "text/plain": [
              "(1, 3)"
            ]
          },
          "execution_count": 24,
          "metadata": {},
          "output_type": "execute_result"
        }
      ],
      "source": [
        "T[0:2]"
      ]
    },
    {
      "cell_type": "code",
      "execution_count": 25,
      "metadata": {
        "colab": {
          "base_uri": "https://localhost:8080/",
          "height": 141
        },
        "id": "dFfCjF7wxJAq",
        "outputId": "f1a82944-34e1-455a-b95f-489c33f9ccb8"
      },
      "outputs": [
        {
          "ename": "TypeError",
          "evalue": "'tuple' object does not support item assignment",
          "output_type": "error",
          "traceback": [
            "\u001b[0;31m---------------------------------------------------------------------------\u001b[0m",
            "\u001b[0;31mTypeError\u001b[0m                                 Traceback (most recent call last)",
            "\u001b[0;32m<ipython-input-25-2989a39db74d>\u001b[0m in \u001b[0;36m<cell line: 1>\u001b[0;34m()\u001b[0m\n\u001b[0;32m----> 1\u001b[0;31m \u001b[0mT\u001b[0m\u001b[0;34m[\u001b[0m\u001b[0;36m0\u001b[0m\u001b[0;34m]\u001b[0m\u001b[0;34m=\u001b[0m\u001b[0;36m0\u001b[0m  \u001b[0;31m# Error\u001b[0m\u001b[0;34m\u001b[0m\u001b[0;34m\u001b[0m\u001b[0m\n\u001b[0m",
            "\u001b[0;31mTypeError\u001b[0m: 'tuple' object does not support item assignment"
          ]
        }
      ],
      "source": [
        "T[0]=0  # Error"
      ]
    },
    {
      "cell_type": "markdown",
      "metadata": {
        "id": "0IzSQunNxJAq"
      },
      "source": [
        "### Set"
      ]
    },
    {
      "cell_type": "code",
      "execution_count": 26,
      "metadata": {
        "colab": {
          "base_uri": "https://localhost:8080/"
        },
        "id": "W0gvK_uixJAq",
        "outputId": "a7cb032f-138e-474e-a7a3-c627cc22f2ea"
      },
      "outputs": [
        {
          "name": "stdout",
          "output_type": "stream",
          "text": [
            "{1, 2, 5, 7}\n",
            "<class 'set'>\n"
          ]
        }
      ],
      "source": [
        "S={1,1,2,5,7,7}\n",
        "print(S)\n",
        "print(type(S))"
      ]
    },
    {
      "cell_type": "code",
      "execution_count": 27,
      "metadata": {
        "colab": {
          "base_uri": "https://localhost:8080/"
        },
        "id": "ibO7ExFCxJAq",
        "outputId": "f371fe2c-f3af-4a0a-cf94-7bf6889676e7"
      },
      "outputs": [
        {
          "name": "stdout",
          "output_type": "stream",
          "text": [
            "{1, 2, 5, 7, 9}\n"
          ]
        }
      ],
      "source": [
        "S.add(9) # add(): add one element to a set\n",
        "print(S)"
      ]
    },
    {
      "cell_type": "code",
      "execution_count": 28,
      "metadata": {
        "colab": {
          "base_uri": "https://localhost:8080/"
        },
        "id": "dtBfigkRxJAq",
        "outputId": "0e2b09d5-9177-48dd-89a7-deba12c3ef00"
      },
      "outputs": [
        {
          "name": "stdout",
          "output_type": "stream",
          "text": [
            "{1, 5, 7, 9}\n"
          ]
        }
      ],
      "source": [
        "S.remove(2) # remove(): remove an element from a set; it must be a member\n",
        "print(S)"
      ]
    },
    {
      "cell_type": "code",
      "execution_count": 29,
      "metadata": {
        "colab": {
          "base_uri": "https://localhost:8080/"
        },
        "id": "FmBbgcERxJAq",
        "outputId": "090b571f-8ded-4900-e1f9-d92ee119afae"
      },
      "outputs": [
        {
          "name": "stdout",
          "output_type": "stream",
          "text": [
            "{1, 3, 4, 5, 6, 7}\n",
            "{3, 4}\n"
          ]
        }
      ],
      "source": [
        "S1={1,3,4,5}\n",
        "S2={3,4,6,7}\n",
        "## S1 | S2\n",
        "print(S1.union(S2)) # Union\n",
        "## S1 & S2\n",
        "print(S1.intersection(S2)) # Intersection"
      ]
    },
    {
      "cell_type": "code",
      "execution_count": 30,
      "metadata": {
        "colab": {
          "base_uri": "https://localhost:8080/"
        },
        "id": "rb1Cb7FlxJAq",
        "outputId": "01e2d853-9d33-442d-c9a6-77ce3e7d8e87"
      },
      "outputs": [
        {
          "name": "stdout",
          "output_type": "stream",
          "text": [
            "{1, 3, 4, 5, 6, 7}\n"
          ]
        }
      ],
      "source": [
        "print(S2.union(S1)) # Union"
      ]
    },
    {
      "cell_type": "markdown",
      "metadata": {
        "id": "bUmPp2rDxJAq"
      },
      "source": [
        "### Dictionary"
      ]
    },
    {
      "cell_type": "markdown",
      "metadata": {
        "id": "tTldg6npxJAq"
      },
      "source": [
        "A dictionary is a container for {key: value} pairs. You can use __any__ type as a key and __any__ type as a value."
      ]
    },
    {
      "cell_type": "markdown",
      "metadata": {
        "id": "PE1_vU4yxJAq"
      },
      "source": [
        "3 ways in defining dictionary:"
      ]
    },
    {
      "cell_type": "code",
      "execution_count": 31,
      "metadata": {
        "colab": {
          "base_uri": "https://localhost:8080/"
        },
        "id": "qVkSZ-rzxJAq",
        "outputId": "14c43d4d-eeee-4f4c-a783-ea0eace2931f"
      },
      "outputs": [
        {
          "name": "stdout",
          "output_type": "stream",
          "text": [
            "{1: 'STA', 'Hi': 160, 2.0: '2020'}\n"
          ]
        }
      ],
      "source": [
        "# 1\n",
        "D={1:'STA' , 'Hi':160 , 2.0:'2020'}\n",
        "print(D)"
      ]
    },
    {
      "cell_type": "code",
      "execution_count": 32,
      "metadata": {
        "colab": {
          "base_uri": "https://localhost:8080/"
        },
        "id": "E_MiK2p1xJAq",
        "outputId": "e751e9bf-2e2f-4b67-be46-91f78f5729db"
      },
      "outputs": [
        {
          "data": {
            "text/plain": [
              "160"
            ]
          },
          "execution_count": 32,
          "metadata": {},
          "output_type": "execute_result"
        }
      ],
      "source": [
        "D['Hi']"
      ]
    },
    {
      "cell_type": "code",
      "execution_count": 33,
      "metadata": {
        "colab": {
          "base_uri": "https://localhost:8080/"
        },
        "id": "F0cxnGP1xJAq",
        "outputId": "b8ac3581-7320-4ca8-b59f-e3241bb5a477"
      },
      "outputs": [
        {
          "data": {
            "text/plain": [
              "{'A': 'STA', 'B': 160, 'C': '2020'}"
            ]
          },
          "execution_count": 33,
          "metadata": {},
          "output_type": "execute_result"
        }
      ],
      "source": [
        "# 2\n",
        "dict(A='STA', B=160, C='2020')"
      ]
    },
    {
      "cell_type": "code",
      "execution_count": 34,
      "metadata": {
        "colab": {
          "base_uri": "https://localhost:8080/"
        },
        "id": "jH2XFJXjxJAr",
        "outputId": "48781c66-62f9-41ae-9d24-46d29a7d4fb1"
      },
      "outputs": [
        {
          "name": "stdout",
          "output_type": "stream",
          "text": [
            "{1: 'STA', 'Hi': 160, 2.0: '2020'}\n"
          ]
        }
      ],
      "source": [
        "# 3\n",
        "D={}\n",
        "D[1]='STA'\n",
        "D['Hi']=160\n",
        "D[2.0]='2020'\n",
        "print(D)"
      ]
    },
    {
      "cell_type": "code",
      "execution_count": 35,
      "metadata": {
        "colab": {
          "base_uri": "https://localhost:8080/"
        },
        "id": "7FmrK9gkxJAr",
        "outputId": "2c494610-d528-4837-956d-730784fbe2c5"
      },
      "outputs": [
        {
          "data": {
            "text/plain": [
              "dict_items([(1, 'STA'), ('Hi', 160), (2.0, '2020')])"
            ]
          },
          "execution_count": 35,
          "metadata": {},
          "output_type": "execute_result"
        }
      ],
      "source": [
        "D.items()"
      ]
    },
    {
      "cell_type": "code",
      "execution_count": 36,
      "metadata": {
        "colab": {
          "base_uri": "https://localhost:8080/"
        },
        "id": "6U1mN3yvxJAr",
        "outputId": "22a2f507-27de-4ce5-f368-644d7acce97c"
      },
      "outputs": [
        {
          "data": {
            "text/plain": [
              "dict_keys([1, 'Hi', 2.0])"
            ]
          },
          "execution_count": 36,
          "metadata": {},
          "output_type": "execute_result"
        }
      ],
      "source": [
        "D.keys()"
      ]
    },
    {
      "cell_type": "code",
      "execution_count": 37,
      "metadata": {
        "colab": {
          "base_uri": "https://localhost:8080/"
        },
        "id": "H8SUkxvPxJAr",
        "outputId": "5322dc65-df2b-4b05-caf6-2bd0e9209e3e"
      },
      "outputs": [
        {
          "data": {
            "text/plain": [
              "dict_values(['STA', 160, '2020'])"
            ]
          },
          "execution_count": 37,
          "metadata": {},
          "output_type": "execute_result"
        }
      ],
      "source": [
        "D.values()"
      ]
    },
    {
      "cell_type": "code",
      "execution_count": 38,
      "metadata": {
        "colab": {
          "base_uri": "https://localhost:8080/"
        },
        "id": "1qcLlIZixJAr",
        "outputId": "abba6d48-6f0a-4e28-b1f0-786e18ed99ef"
      },
      "outputs": [
        {
          "name": "stdout",
          "output_type": "stream",
          "text": [
            "1 STA\n",
            "Hi 160\n",
            "2.0 2020\n"
          ]
        }
      ],
      "source": [
        "for x,y in D.items():\n",
        "    print(x,y)"
      ]
    },
    {
      "cell_type": "code",
      "execution_count": 39,
      "metadata": {
        "colab": {
          "base_uri": "https://localhost:8080/"
        },
        "id": "9mAc8yALxJAr",
        "outputId": "786c2c2a-bf45-49f7-b409-3411a0941090"
      },
      "outputs": [
        {
          "name": "stdout",
          "output_type": "stream",
          "text": [
            "STA\n",
            "160\n",
            "2020\n",
            "finish\n"
          ]
        }
      ],
      "source": [
        "for x in D.values():\n",
        "    print(x)\n",
        "print('finish')"
      ]
    },
    {
      "cell_type": "code",
      "execution_count": 40,
      "metadata": {
        "colab": {
          "base_uri": "https://localhost:8080/"
        },
        "id": "KFwY3nXaxJAr",
        "outputId": "28dc837d-8ff3-4f98-8f48-d22ae55d25b6"
      },
      "outputs": [
        {
          "name": "stdout",
          "output_type": "stream",
          "text": [
            "['STA', '160', '2020']\n"
          ]
        }
      ],
      "source": [
        "a=[str(x) for x in D.values()] ## list comprehension [function(i) for i in ... ]\n",
        "print(a)"
      ]
    },
    {
      "cell_type": "markdown",
      "metadata": {
        "id": "wnV8QCQgxJAr"
      },
      "source": [
        "From __List__ to __String__"
      ]
    },
    {
      "cell_type": "code",
      "execution_count": 41,
      "metadata": {
        "colab": {
          "base_uri": "https://localhost:8080/"
        },
        "id": "zylbN7rvxJAr",
        "outputId": "0336a6be-ea19-41eb-c935-f487cf6fc1e6"
      },
      "outputs": [
        {
          "data": {
            "text/plain": [
              "['STA', '160', '2020']"
            ]
          },
          "execution_count": 41,
          "metadata": {},
          "output_type": "execute_result"
        }
      ],
      "source": [
        "a"
      ]
    },
    {
      "cell_type": "code",
      "execution_count": 42,
      "metadata": {
        "colab": {
          "base_uri": "https://localhost:8080/",
          "height": 35
        },
        "id": "f0sp6rEixJAr",
        "outputId": "93229b56-babf-41cc-d823-11a973f40d17"
      },
      "outputs": [
        {
          "data": {
            "application/vnd.google.colaboratory.intrinsic+json": {
              "type": "string"
            },
            "text/plain": [
              "'STA 160 2020'"
            ]
          },
          "execution_count": 42,
          "metadata": {},
          "output_type": "execute_result"
        }
      ],
      "source": [
        "' '.join(a)"
      ]
    },
    {
      "cell_type": "code",
      "execution_count": 43,
      "metadata": {
        "colab": {
          "base_uri": "https://localhost:8080/",
          "height": 35
        },
        "id": "svKU3_HQxJAr",
        "outputId": "f8aa3b9f-c6ad-4807-a763-d8a732a7de4f"
      },
      "outputs": [
        {
          "data": {
            "application/vnd.google.colaboratory.intrinsic+json": {
              "type": "string"
            },
            "text/plain": [
              "'1, 2, 3'"
            ]
          },
          "execution_count": 43,
          "metadata": {},
          "output_type": "execute_result"
        }
      ],
      "source": [
        "b=[1,2,3]\n",
        "', '.join(map(str,b)) # map() to convert each item in the list to a string then join them"
      ]
    },
    {
      "cell_type": "markdown",
      "metadata": {
        "id": "oOIpdeBfxJAr"
      },
      "source": [
        "From __String__ to __List__"
      ]
    },
    {
      "cell_type": "code",
      "execution_count": 44,
      "metadata": {
        "colab": {
          "base_uri": "https://localhost:8080/"
        },
        "id": "jApRJcP_xJAr",
        "outputId": "ea3ce859-1f9c-4569-8137-fc9d0c1b2392"
      },
      "outputs": [
        {
          "data": {
            "text/plain": [
              "['P', 'y', 't', 'h', 'o', 'n']"
            ]
          },
          "execution_count": 44,
          "metadata": {},
          "output_type": "execute_result"
        }
      ],
      "source": [
        "list('Python')"
      ]
    },
    {
      "cell_type": "markdown",
      "metadata": {
        "id": "4qYeQoyExJAr"
      },
      "source": [
        "From __String__ to __List__"
      ]
    },
    {
      "cell_type": "code",
      "execution_count": 45,
      "metadata": {
        "colab": {
          "base_uri": "https://localhost:8080/"
        },
        "id": "CnbC4dCPxJAr",
        "outputId": "d5d1835e-f53e-4a26-cd99-7b2c26964428"
      },
      "outputs": [
        {
          "data": {
            "text/plain": [
              "{1, 2, 3}"
            ]
          },
          "execution_count": 45,
          "metadata": {},
          "output_type": "execute_result"
        }
      ],
      "source": [
        "set([1,2,3])"
      ]
    },
    {
      "cell_type": "markdown",
      "metadata": {
        "id": "uMQ9mqiIxJAr"
      },
      "source": [
        "From __String__ to __List__"
      ]
    },
    {
      "cell_type": "code",
      "execution_count": 46,
      "metadata": {
        "colab": {
          "base_uri": "https://localhost:8080/"
        },
        "id": "OanuBaKSxJAr",
        "outputId": "992268d0-46b7-4866-8c5d-eeff1acc1746"
      },
      "outputs": [
        {
          "data": {
            "text/plain": [
              "[1, 2, 3]"
            ]
          },
          "execution_count": 46,
          "metadata": {},
          "output_type": "execute_result"
        }
      ],
      "source": [
        "list({1,2,3})"
      ]
    },
    {
      "cell_type": "markdown",
      "metadata": {
        "id": "Yk2LaqstxJAr"
      },
      "source": [
        "From __Set__ to __Tuple__"
      ]
    },
    {
      "cell_type": "code",
      "execution_count": 47,
      "metadata": {
        "colab": {
          "base_uri": "https://localhost:8080/"
        },
        "id": "eZLdwChPxJAr",
        "outputId": "e2d322b4-2d4d-46df-a84a-f9057b4c27ee"
      },
      "outputs": [
        {
          "data": {
            "text/plain": [
              "(1, 2, 3)"
            ]
          },
          "execution_count": 47,
          "metadata": {},
          "output_type": "execute_result"
        }
      ],
      "source": [
        "tuple({1,2,3})"
      ]
    },
    {
      "cell_type": "markdown",
      "metadata": {
        "id": "MFWX_GCWxJAr"
      },
      "source": [
        "From __Tuple__ to __List__"
      ]
    },
    {
      "cell_type": "code",
      "execution_count": 48,
      "metadata": {
        "colab": {
          "base_uri": "https://localhost:8080/"
        },
        "id": "3lqO8Y9RxJAr",
        "outputId": "b7c09618-6d2a-41f5-ccae-95bdfa4601d6"
      },
      "outputs": [
        {
          "data": {
            "text/plain": [
              "[1, 2, 3]"
            ]
          },
          "execution_count": 48,
          "metadata": {},
          "output_type": "execute_result"
        }
      ],
      "source": [
        "list((1,2,3))"
      ]
    },
    {
      "cell_type": "markdown",
      "metadata": {
        "id": "xY0Quk4pxJAs"
      },
      "source": [
        "### Inserting values into strings"
      ]
    },
    {
      "cell_type": "markdown",
      "metadata": {
        "id": "nOR4truBxJAs"
      },
      "source": [
        "You can use the string method format method to create new strings with inserted values.\n",
        "The curly braces show where the inserted value should go."
      ]
    },
    {
      "cell_type": "code",
      "execution_count": 49,
      "metadata": {
        "colab": {
          "base_uri": "https://localhost:8080/",
          "height": 35
        },
        "id": "rzyRaXi-xJAs",
        "outputId": "c0fd8d38-8b28-41d6-94b6-c3996ecc0ffb"
      },
      "outputs": [
        {
          "data": {
            "application/vnd.google.colaboratory.intrinsic+json": {
              "type": "string"
            },
            "text/plain": [
              "'Month April, Year 2020.'"
            ]
          },
          "execution_count": 49,
          "metadata": {},
          "output_type": "execute_result"
        }
      ],
      "source": [
        "\"Month {}, Year {}.\".format('April', 2020)"
      ]
    },
    {
      "cell_type": "markdown",
      "metadata": {
        "id": "y_KMxe5YxJAs"
      },
      "source": [
        "For % operator formating, you show where the inserted values should go using a % character followed by a format specifier, to say how the value should be inserted."
      ]
    },
    {
      "cell_type": "code",
      "execution_count": 50,
      "metadata": {
        "colab": {
          "base_uri": "https://localhost:8080/",
          "height": 35
        },
        "id": "jr1OCQ5txJAs",
        "outputId": "cedd37ff-3c54-421d-a92f-a6549d0e6ca1"
      },
      "outputs": [
        {
          "data": {
            "application/vnd.google.colaboratory.intrinsic+json": {
              "type": "string"
            },
            "text/plain": [
              "'Month April, Year 2020.'"
            ]
          },
          "execution_count": 50,
          "metadata": {},
          "output_type": "execute_result"
        }
      ],
      "source": [
        "# Notice the %s marker to insert a string, and the %d marker to insert an integer.\n",
        "\"Month %s, Year %d.\" % ('April', 2020)"
      ]
    },
    {
      "cell_type": "markdown",
      "metadata": {
        "id": "7dXWI1ndxJAs"
      },
      "source": [
        "## iterator"
      ]
    },
    {
      "cell_type": "markdown",
      "metadata": {
        "id": "vnqUPvVGxJAs"
      },
      "source": [
        "String, Lists, Tuples, Sets, and Dictionaries are all iterable objects. They are iterable containers which you can get an iterator from. All these objects have a iter() method which is used to get an iterator"
      ]
    },
    {
      "cell_type": "code",
      "execution_count": 51,
      "metadata": {
        "colab": {
          "base_uri": "https://localhost:8080/"
        },
        "id": "TEsYwHRcxJAs",
        "outputId": "b11e2b15-c08b-4bfb-df20-31c1c49bbe43"
      },
      "outputs": [
        {
          "name": "stdout",
          "output_type": "stream",
          "text": [
            "1\n",
            "2\n",
            "3\n"
          ]
        }
      ],
      "source": [
        "it=iter([1,2,3])\n",
        "for x in it:\n",
        "    print(x)"
      ]
    },
    {
      "cell_type": "code",
      "execution_count": 52,
      "metadata": {
        "colab": {
          "base_uri": "https://localhost:8080/"
        },
        "id": "iQV6U_pLxJAs",
        "outputId": "607f9632-a8b4-4a6b-ccff-c62447788d02"
      },
      "outputs": [
        {
          "name": "stdout",
          "output_type": "stream",
          "text": [
            "a\n",
            "b\n",
            "c\n"
          ]
        }
      ],
      "source": [
        "it=iter({'a':1,'b':2,'c':3})\n",
        "print(next(it))\n",
        "print(next(it))\n",
        "print(next(it))"
      ]
    },
    {
      "cell_type": "code",
      "execution_count": 53,
      "metadata": {
        "colab": {
          "base_uri": "https://localhost:8080/"
        },
        "id": "P3b4hr77xJAs",
        "outputId": "178a1324-d09e-4a0a-ed31-6b6fbf743b45"
      },
      "outputs": [
        {
          "data": {
            "text/plain": [
              "<enumerate at 0x7fc43e24aec0>"
            ]
          },
          "execution_count": 53,
          "metadata": {},
          "output_type": "execute_result"
        }
      ],
      "source": [
        "# iterator: enumerate elements from 0 to length\n",
        "enumerate('Python')"
      ]
    },
    {
      "cell_type": "code",
      "execution_count": 54,
      "metadata": {
        "colab": {
          "base_uri": "https://localhost:8080/"
        },
        "id": "QnGgRhzwxJAs",
        "outputId": "49fc7c6a-0f82-4d66-fa90-bfbff9ae8456"
      },
      "outputs": [
        {
          "data": {
            "text/plain": [
              "[(0, 'P'), (1, 'y'), (2, 't'), (3, 'h'), (4, 'o'), (5, 'n')]"
            ]
          },
          "execution_count": 54,
          "metadata": {},
          "output_type": "execute_result"
        }
      ],
      "source": [
        "list(enumerate('Python')) # convert to list"
      ]
    },
    {
      "cell_type": "code",
      "execution_count": 55,
      "metadata": {
        "colab": {
          "base_uri": "https://localhost:8080/"
        },
        "id": "WURLvYMcxJAs",
        "outputId": "8a6cf83f-269d-4ed1-e30d-86e70f79cb60"
      },
      "outputs": [
        {
          "data": {
            "text/plain": [
              "{0: 'P', 1: 'y', 2: 't', 3: 'h', 4: 'o', 5: 'n'}"
            ]
          },
          "execution_count": 55,
          "metadata": {},
          "output_type": "execute_result"
        }
      ],
      "source": [
        "dict(enumerate('Python')) # convert to dictionary"
      ]
    },
    {
      "cell_type": "code",
      "execution_count": 56,
      "metadata": {
        "colab": {
          "base_uri": "https://localhost:8080/"
        },
        "id": "qaCV0olRxJAs",
        "outputId": "b7d88fa1-bad4-434c-a3f7-c280c8f2b1f4"
      },
      "outputs": [
        {
          "data": {
            "text/plain": [
              "<zip at 0x7fc43e2eb0c0>"
            ]
          },
          "execution_count": 56,
          "metadata": {},
          "output_type": "execute_result"
        }
      ],
      "source": [
        "# iterator: element-wise pairs\n",
        "zip([1,2,3],['a','b','c'])"
      ]
    },
    {
      "cell_type": "code",
      "execution_count": 57,
      "metadata": {
        "colab": {
          "base_uri": "https://localhost:8080/"
        },
        "id": "ZDaqeH1GxJAs",
        "outputId": "7ef562ed-9bc4-4bdc-c52b-597604cd346b"
      },
      "outputs": [
        {
          "data": {
            "text/plain": [
              "[(1, 'a'), (2, 'b')]"
            ]
          },
          "execution_count": 57,
          "metadata": {},
          "output_type": "execute_result"
        }
      ],
      "source": [
        "list(zip([1,2,3],['a','b'])) # convert to list"
      ]
    },
    {
      "cell_type": "code",
      "execution_count": 58,
      "metadata": {
        "colab": {
          "base_uri": "https://localhost:8080/"
        },
        "id": "TsivPieIxJAs",
        "outputId": "30cd6a0c-ed74-4553-cc58-3d542d453794"
      },
      "outputs": [
        {
          "data": {
            "text/plain": [
              "{1: 'a', 2: 'b'}"
            ]
          },
          "execution_count": 58,
          "metadata": {},
          "output_type": "execute_result"
        }
      ],
      "source": [
        "dict(zip([1,2,3],['a','b'])) # convert to list"
      ]
    },
    {
      "cell_type": "code",
      "execution_count": 59,
      "metadata": {
        "colab": {
          "base_uri": "https://localhost:8080/"
        },
        "id": "1xcbgJbMxJAs",
        "outputId": "1927a64f-c888-4774-bac4-dbe0f3f5f584"
      },
      "outputs": [
        {
          "data": {
            "text/plain": [
              "['Aa', 'Bb', 'Cc']"
            ]
          },
          "execution_count": 59,
          "metadata": {},
          "output_type": "execute_result"
        }
      ],
      "source": [
        "t=zip('abc','ABC')\n",
        "[ u+l for l,u in t]"
      ]
    },
    {
      "cell_type": "markdown",
      "metadata": {
        "id": "MK3OsZanxJAs"
      },
      "source": [
        "## For, While loops"
      ]
    },
    {
      "cell_type": "code",
      "execution_count": 60,
      "metadata": {
        "colab": {
          "base_uri": "https://localhost:8080/"
        },
        "id": "-fxHecmSxJAs",
        "outputId": "4037c706-9d6f-472b-f237-0a48b963e24a"
      },
      "outputs": [
        {
          "name": "stdout",
          "output_type": "stream",
          "text": [
            "[1, 9, 16]\n"
          ]
        }
      ],
      "source": [
        "L=[1,3,4]\n",
        "# record L squared in result\n",
        "result=[]\n",
        "for i in range(len(L)):\n",
        "    result.append(L[i]**2)\n",
        "print(result)"
      ]
    },
    {
      "cell_type": "code",
      "execution_count": 61,
      "metadata": {
        "colab": {
          "base_uri": "https://localhost:8080/"
        },
        "id": "SdTRlSOkxJAs",
        "outputId": "157642a5-c8e1-4615-a2e5-34647da53c9c"
      },
      "outputs": [
        {
          "name": "stdout",
          "output_type": "stream",
          "text": [
            "[0, 1, 2]\n",
            "[1, 2, 3]\n"
          ]
        }
      ],
      "source": [
        "# range() function\n",
        "print(list(range(3)))\n",
        "print(list(range(1,4)))"
      ]
    },
    {
      "cell_type": "code",
      "execution_count": 62,
      "metadata": {
        "colab": {
          "base_uri": "https://localhost:8080/"
        },
        "id": "A9k6nx9MxJAs",
        "outputId": "0199b7d7-d942-459c-94e3-43d86a9b590b"
      },
      "outputs": [
        {
          "name": "stdout",
          "output_type": "stream",
          "text": [
            "[[2, 3, 4], [5, 50, 7], [8, 9, 10]]\n"
          ]
        }
      ],
      "source": [
        "M=[[1,2,3],[4,5,6],[7,8,9]]\n",
        "\n",
        "for i in range(len(M)):\n",
        "    for j in range(len(M[0])):\n",
        "        if M[i][j]==5:\n",
        "            M[i][j]*=10\n",
        "        else:\n",
        "            M[i][j]+=1\n",
        "print(M)"
      ]
    },
    {
      "cell_type": "code",
      "execution_count": 63,
      "metadata": {
        "colab": {
          "base_uri": "https://localhost:8080/"
        },
        "id": "gBgGiHthxJAt",
        "outputId": "e48402e8-bbe0-4049-a3eb-e70c2b72df0d"
      },
      "outputs": [
        {
          "name": "stdout",
          "output_type": "stream",
          "text": [
            "0\n",
            "10\n",
            "19\n",
            "27\n",
            "34\n",
            "40\n",
            "45\n",
            "49\n",
            "52\n",
            "54\n",
            "The toal sum is:  55\n"
          ]
        }
      ],
      "source": [
        "x=10\n",
        "addup=0\n",
        "while x>0:\n",
        "    print(addup)\n",
        "    addup+=x\n",
        "    x-=1\n",
        "print(\"The toal sum is: \",addup)"
      ]
    },
    {
      "cell_type": "code",
      "execution_count": null,
      "metadata": {
        "id": "uJiR1zpgxJAt"
      },
      "outputs": [],
      "source": [
        "# x-=1 -> x=x-1"
      ]
    },
    {
      "cell_type": "markdown",
      "metadata": {
        "id": "N-7OMx0fxJAt"
      },
      "source": [
        "### break and continue"
      ]
    },
    {
      "cell_type": "code",
      "execution_count": 64,
      "metadata": {
        "colab": {
          "base_uri": "https://localhost:8080/"
        },
        "id": "kApySEIfxJAt",
        "outputId": "8de06aaa-a89a-483f-e7ce-771b8c5016a2"
      },
      "outputs": [
        {
          "name": "stdout",
          "output_type": "stream",
          "text": [
            "1\n",
            "finish an iteration\n",
            "2\n",
            "finish an iteration\n",
            "3\n"
          ]
        }
      ],
      "source": [
        "i = 0\n",
        "while i < 6:\n",
        "    i += 1\n",
        "    print(i)\n",
        "    if i == 3:\n",
        "        break\n",
        "    print('finish an iteration')"
      ]
    },
    {
      "cell_type": "code",
      "execution_count": 65,
      "metadata": {
        "colab": {
          "base_uri": "https://localhost:8080/"
        },
        "id": "1lreBicmxJAt",
        "outputId": "819fefbc-84b4-4b4e-c848-ffaa2c7c8c6f"
      },
      "outputs": [
        {
          "name": "stdout",
          "output_type": "stream",
          "text": [
            "1\n",
            "finish an iteration\n",
            "2\n",
            "finish an iteration\n",
            "3\n",
            "4\n",
            "finish an iteration\n",
            "5\n",
            "finish an iteration\n",
            "6\n",
            "finish an iteration\n"
          ]
        }
      ],
      "source": [
        "i = 0\n",
        "while i < 6:\n",
        "    i += 1\n",
        "    print(i)\n",
        "    if i == 3:\n",
        "        continue # skip the rest and do next iteration\n",
        "    print('finish an iteration')"
      ]
    },
    {
      "cell_type": "markdown",
      "metadata": {
        "id": "-9hvGfxjMnaB"
      },
      "source": [
        "### Advanced Data Structures from Packages\n",
        "\n",
        "For example,\n",
        "\n",
        "- [numpy.array](https://numpy.org/devdocs/user/quickstart.html)\n",
        "\n",
        "- [pandas.Series, pandas.DataFrame](https://pandas.pydata.org/pandas-docs/stable/getting_started/10min.html)"
      ]
    },
    {
      "cell_type": "markdown",
      "metadata": {
        "id": "tk7ICYaaMoKx"
      },
      "source": [
        "### Module and Package\n",
        "\n",
        "*Python* is **open**. Python is developed under an OSI-approved open source license, making it freely usable and distributable, even for commercial use. Everyone can contribute to this community, such as developing useful modules.\n",
        "\n",
        "It is much more convenient to manage your programming environment using *conda*. Read the [user guide](https://conda.io/projects/conda/en/latest/user-guide/getting-started.html)"
      ]
    },
    {
      "cell_type": "code",
      "execution_count": 66,
      "metadata": {
        "colab": {
          "base_uri": "https://localhost:8080/"
        },
        "id": "xZZY2RbpNnjg",
        "outputId": "9531812e-ff19-49b0-b66a-fb376db8256d"
      },
      "outputs": [
        {
          "data": {
            "text/plain": [
              "1.4142135623730951"
            ]
          },
          "execution_count": 66,
          "metadata": {},
          "output_type": "execute_result"
        }
      ],
      "source": [
        "import math\n",
        "#import numpy\n",
        "\n",
        "math.sqrt(2)"
      ]
    },
    {
      "cell_type": "code",
      "execution_count": 67,
      "metadata": {
        "colab": {
          "base_uri": "https://localhost:8080/"
        },
        "id": "L_hDwpYxNxbx",
        "outputId": "8a1b7b0c-155b-4649-baea-f83580ef9ce4"
      },
      "outputs": [
        {
          "data": {
            "text/plain": [
              "1.4142135623730951"
            ]
          },
          "execution_count": 67,
          "metadata": {},
          "output_type": "execute_result"
        }
      ],
      "source": [
        "import math as m\n",
        "\n",
        "m.sqrt(2)"
      ]
    },
    {
      "cell_type": "code",
      "execution_count": 68,
      "metadata": {
        "colab": {
          "base_uri": "https://localhost:8080/"
        },
        "id": "DNsG7Y7lN20p",
        "outputId": "3758f589-cdee-470e-f7ea-e81fbfe89d04"
      },
      "outputs": [
        {
          "data": {
            "text/plain": [
              "1.4142135623730951"
            ]
          },
          "execution_count": 68,
          "metadata": {},
          "output_type": "execute_result"
        }
      ],
      "source": [
        "from math import sqrt\n",
        "\n",
        "sqrt(2)"
      ]
    },
    {
      "cell_type": "code",
      "execution_count": 69,
      "metadata": {
        "colab": {
          "base_uri": "https://localhost:8080/"
        },
        "id": "X3ND3DKPN3a4",
        "outputId": "1706ecde-ec0f-4a9a-f9ed-f50dadf28cee"
      },
      "outputs": [
        {
          "data": {
            "text/plain": [
              "1.4142135623730951"
            ]
          },
          "execution_count": 69,
          "metadata": {},
          "output_type": "execute_result"
        }
      ],
      "source": [
        "from math import *\n",
        "\n",
        "sqrt(2)"
      ]
    },
    {
      "cell_type": "markdown",
      "metadata": {
        "id": "nqY4xzFfMoPU"
      },
      "source": [
        "Below are some useful modules you may use in this class.\n",
        "\n",
        "- [numpy](https://numpy.org/): The fundamental package for scientific computing with Python\n",
        "- [scikit-learn](https://scikit-learn.org/stable/): Machine Learning in Python\n",
        "- [matploblib](https://matplotlib.org/): Visualization with Python\n",
        "- [seaborn](https://seaborn.pydata.org/): Statistical data visualization\n",
        "- [statsmodels](https://www.statsmodels.org/stable/index.html): statistical models, hypothesis tests, and data exploration\n",
        "- [PyTorch](https://pytorch.org/): An open source machine learning framework that accelerates the path from research prototyping to production deployment\n",
        "\n",
        "\n",
        "### Function\n",
        "\n",
        "You can define your own function or call functions from modules."
      ]
    },
    {
      "cell_type": "code",
      "execution_count": 70,
      "metadata": {
        "id": "FEADVPIyOEEg"
      },
      "outputs": [],
      "source": [
        "# define your own functions\n",
        "def myfunction(a):\n",
        "    b = a+10\n",
        "    return b"
      ]
    },
    {
      "cell_type": "code",
      "execution_count": 71,
      "metadata": {
        "colab": {
          "base_uri": "https://localhost:8080/"
        },
        "id": "Zb2PAbM9OIKV",
        "outputId": "163f5107-1de7-4552-f894-b10e6fa9c155"
      },
      "outputs": [
        {
          "data": {
            "text/plain": [
              "12"
            ]
          },
          "execution_count": 71,
          "metadata": {},
          "output_type": "execute_result"
        }
      ],
      "source": [
        "myfunction(2)"
      ]
    },
    {
      "cell_type": "markdown",
      "metadata": {
        "id": "nNTHm18qOMWv"
      },
      "source": [
        "In Python, we usually use [NumPy](https://numpy.org/) to implement the matrix computations for the sake of efficiency. The package `NumPy` provides several powerful classes and methods for numerical computations.\n",
        "\n",
        "To be specific, the class `np.ndarray` (`np.array`) is commonly used for matrix computations. Please check out this [manual](https://numpy.org/doc/stable/reference/generated/numpy.ndarray.html).\n",
        "\n",
        "### Vector - 1d array"
      ]
    },
    {
      "cell_type": "code",
      "execution_count": 72,
      "metadata": {
        "colab": {
          "base_uri": "https://localhost:8080/"
        },
        "id": "d3wf3RHTOIyB",
        "outputId": "55dd4c33-62a9-4b7b-a79c-b3c188717b39"
      },
      "outputs": [
        {
          "data": {
            "text/plain": [
              "(3,)"
            ]
          },
          "execution_count": 72,
          "metadata": {},
          "output_type": "execute_result"
        }
      ],
      "source": [
        "import numpy as np\n",
        "vec = np.array([1,2,3])\n",
        "vec.shape"
      ]
    },
    {
      "cell_type": "markdown",
      "metadata": {
        "id": "Uwl3jCI7O4UC"
      },
      "source": [
        "`(3,)` is a tuple with only one element. The 1-d array has only the `length` attribute."
      ]
    },
    {
      "cell_type": "code",
      "execution_count": 73,
      "metadata": {
        "colab": {
          "base_uri": "https://localhost:8080/"
        },
        "id": "RSvfJOc1OyJf",
        "outputId": "49bf8793-6228-41d8-b38a-11117ff8f95e"
      },
      "outputs": [
        {
          "data": {
            "text/plain": [
              "3"
            ]
          },
          "execution_count": 73,
          "metadata": {},
          "output_type": "execute_result"
        }
      ],
      "source": [
        "len(vec)"
      ]
    },
    {
      "cell_type": "code",
      "execution_count": 74,
      "metadata": {
        "colab": {
          "base_uri": "https://localhost:8080/"
        },
        "id": "LT_SSa03O1AA",
        "outputId": "9e760845-259d-4aa6-e3ff-85e4205f1a5b"
      },
      "outputs": [
        {
          "data": {
            "text/plain": [
              "3"
            ]
          },
          "execution_count": 74,
          "metadata": {},
          "output_type": "execute_result"
        }
      ],
      "source": [
        "vec.max()"
      ]
    },
    {
      "cell_type": "markdown",
      "metadata": {
        "id": "8V5q0c4jO7mR"
      },
      "source": [
        "### Matrix - 2d array"
      ]
    },
    {
      "cell_type": "code",
      "execution_count": 75,
      "metadata": {
        "colab": {
          "base_uri": "https://localhost:8080/"
        },
        "id": "7M0UHpRoO_cH",
        "outputId": "aec6e0a9-611f-4edf-c3ba-1e2316ee8d4f"
      },
      "outputs": [
        {
          "data": {
            "text/plain": [
              "array([[ 1,  2,  3],\n",
              "       [ 4,  5,  9],\n",
              "       [ 7,  8,  9],\n",
              "       [10, 11, 12]])"
            ]
          },
          "execution_count": 75,
          "metadata": {},
          "output_type": "execute_result"
        }
      ],
      "source": [
        "mat = np.array([[1,2,3],[4,5,9],[7,8,9],[10,11,12]])\n",
        "mat"
      ]
    },
    {
      "cell_type": "code",
      "execution_count": 76,
      "metadata": {
        "colab": {
          "base_uri": "https://localhost:8080/"
        },
        "id": "wPps3iIsPA_A",
        "outputId": "d672d6bb-26a6-4bef-e60d-1fbe770d75d8"
      },
      "outputs": [
        {
          "data": {
            "text/plain": [
              "(4, 3)"
            ]
          },
          "execution_count": 76,
          "metadata": {},
          "output_type": "execute_result"
        }
      ],
      "source": [
        "mat.shape"
      ]
    },
    {
      "cell_type": "markdown",
      "metadata": {
        "id": "Td2cAItNPFhJ"
      },
      "source": [
        "`(4, 3)` is a tuple with two elements, which corresponds to # of rows, # of columns.\n",
        "\n",
        "### Tensor - multidimensional array\n",
        "\n",
        "Tensors are a generalized data structure, which have a wide range of applications in modern machine learning. We will later discuss it in the section of deep neural networks. For example, in [PyTorch](https://pytorch.org/), we will use tensors to encode the inputs and outputs of a model, as well as the model’s parameters. Then, tensors can run on GPUs or other specialized hardware to accelerate computing.\n",
        "\n",
        "\n",
        "### Matrix Computations\n",
        "\n",
        "\n",
        "#### 1. Matrix Addition, Substraction, Element-wise Multiplication & Division"
      ]
    },
    {
      "cell_type": "code",
      "execution_count": 77,
      "metadata": {
        "id": "Z3j57tgCPIkg"
      },
      "outputs": [],
      "source": [
        "A = np.array([[1,2],[3,4]])\n",
        "B = np.array([[2,3],[4,5]])"
      ]
    },
    {
      "cell_type": "code",
      "execution_count": 78,
      "metadata": {
        "colab": {
          "base_uri": "https://localhost:8080/"
        },
        "id": "au9Nz-dwPKFx",
        "outputId": "589322ed-9709-4e00-a074-6b9a80008bf4"
      },
      "outputs": [
        {
          "data": {
            "text/plain": [
              "array([[3, 5],\n",
              "       [7, 9]])"
            ]
          },
          "execution_count": 78,
          "metadata": {},
          "output_type": "execute_result"
        }
      ],
      "source": [
        "A+B"
      ]
    },
    {
      "cell_type": "code",
      "execution_count": 79,
      "metadata": {
        "colab": {
          "base_uri": "https://localhost:8080/"
        },
        "id": "P4YC34c9PLlJ",
        "outputId": "1839a8fa-45c8-4891-fc55-09addc9eb227"
      },
      "outputs": [
        {
          "data": {
            "text/plain": [
              "array([[-1, -1],\n",
              "       [-1, -1]])"
            ]
          },
          "execution_count": 79,
          "metadata": {},
          "output_type": "execute_result"
        }
      ],
      "source": [
        "A-B"
      ]
    },
    {
      "cell_type": "code",
      "execution_count": 80,
      "metadata": {
        "colab": {
          "base_uri": "https://localhost:8080/"
        },
        "id": "46z79L0UPNHQ",
        "outputId": "44652f87-bf50-4167-e7e1-e68b2138bd4e"
      },
      "outputs": [
        {
          "data": {
            "text/plain": [
              "array([[ 2,  6],\n",
              "       [12, 20]])"
            ]
          },
          "execution_count": 80,
          "metadata": {},
          "output_type": "execute_result"
        }
      ],
      "source": [
        "A*B"
      ]
    },
    {
      "cell_type": "code",
      "execution_count": 81,
      "metadata": {
        "colab": {
          "base_uri": "https://localhost:8080/"
        },
        "id": "oJmOPXvEPOxw",
        "outputId": "913e8e45-2528-4d7d-f4a5-cc6edb6622b4"
      },
      "outputs": [
        {
          "data": {
            "text/plain": [
              "array([[0.5       , 0.66666667],\n",
              "       [0.75      , 0.8       ]])"
            ]
          },
          "execution_count": 81,
          "metadata": {},
          "output_type": "execute_result"
        }
      ],
      "source": [
        "A/B"
      ]
    },
    {
      "cell_type": "markdown",
      "metadata": {
        "id": "hh6w1GfCPQvg"
      },
      "source": [
        "`+`, `-`, `*`, `/` will do element-wise addition and substraction. If the shapes of two arrays are different, this operation cannot be done with an error message. However, the matrix-scalar calculations are acceptable."
      ]
    },
    {
      "cell_type": "code",
      "execution_count": 82,
      "metadata": {
        "colab": {
          "base_uri": "https://localhost:8080/"
        },
        "id": "4b7rQaw_PS3Q",
        "outputId": "ad5c17b6-af07-4fc3-aa97-6e492e448c44"
      },
      "outputs": [
        {
          "data": {
            "text/plain": [
              "array([[2, 3],\n",
              "       [4, 5]])"
            ]
          },
          "execution_count": 82,
          "metadata": {},
          "output_type": "execute_result"
        }
      ],
      "source": [
        "A + 1"
      ]
    },
    {
      "cell_type": "code",
      "execution_count": 83,
      "metadata": {
        "colab": {
          "base_uri": "https://localhost:8080/"
        },
        "id": "GTY0NQbXPUbF",
        "outputId": "61b0b67f-d86c-4f44-fd53-5b7abfdde19d"
      },
      "outputs": [
        {
          "data": {
            "text/plain": [
              "array([[2, 4],\n",
              "       [6, 8]])"
            ]
          },
          "execution_count": 83,
          "metadata": {},
          "output_type": "execute_result"
        }
      ],
      "source": [
        "A * 2"
      ]
    },
    {
      "cell_type": "markdown",
      "metadata": {
        "id": "WKszALXnPXJ5"
      },
      "source": [
        "#### 2. Matrix Muplication\n",
        "\n",
        "When computing the matrix muplication using NumPy and the operator `@`, make sure that the shapes of two operands follow the rules, i.e., `(m,p) @ (p,n)` $\\rightarrow$ `(m,n)` .\n",
        "\n",
        "- Matrix-Vector Product (2darray-1darray Product)"
      ]
    },
    {
      "cell_type": "code",
      "execution_count": 84,
      "metadata": {
        "id": "fLUXmljdPWXo"
      },
      "outputs": [],
      "source": [
        "mat = np.array([[1,2,3],[4,5,9],[7,8,9],[10,11,12]])\n",
        "b = np.array([1,1,1])"
      ]
    },
    {
      "cell_type": "code",
      "execution_count": 85,
      "metadata": {
        "colab": {
          "base_uri": "https://localhost:8080/"
        },
        "id": "fb9bMrPpPbS4",
        "outputId": "8429939d-3fc6-464e-f6d7-af136827ee39"
      },
      "outputs": [
        {
          "data": {
            "text/plain": [
              "array([[ 1,  2,  3],\n",
              "       [ 4,  5,  9],\n",
              "       [ 7,  8,  9],\n",
              "       [10, 11, 12]])"
            ]
          },
          "execution_count": 85,
          "metadata": {},
          "output_type": "execute_result"
        }
      ],
      "source": [
        "mat"
      ]
    },
    {
      "cell_type": "code",
      "execution_count": 86,
      "metadata": {
        "colab": {
          "base_uri": "https://localhost:8080/"
        },
        "id": "g-FAw3SHPdMo",
        "outputId": "063b2df6-f1e2-4d57-ce53-582a27dcb25b"
      },
      "outputs": [
        {
          "data": {
            "text/plain": [
              "array([1, 1, 1])"
            ]
          },
          "execution_count": 86,
          "metadata": {},
          "output_type": "execute_result"
        }
      ],
      "source": [
        "b"
      ]
    },
    {
      "cell_type": "code",
      "execution_count": 87,
      "metadata": {
        "colab": {
          "base_uri": "https://localhost:8080/"
        },
        "id": "T4nkh7-dPg4I",
        "outputId": "2d272258-f7c5-468c-fbb7-858e797b35ef"
      },
      "outputs": [
        {
          "data": {
            "text/plain": [
              "array([ 6, 18, 24, 33])"
            ]
          },
          "execution_count": 87,
          "metadata": {},
          "output_type": "execute_result"
        }
      ],
      "source": [
        "mat @ b"
      ]
    },
    {
      "cell_type": "code",
      "execution_count": 88,
      "metadata": {
        "colab": {
          "base_uri": "https://localhost:8080/"
        },
        "id": "HYZYhNyjTbU4",
        "outputId": "a2f7f5ec-aabf-4a86-bb9c-73bf13ca382e"
      },
      "outputs": [
        {
          "data": {
            "text/plain": [
              "(4,)"
            ]
          },
          "execution_count": 88,
          "metadata": {},
          "output_type": "execute_result"
        }
      ],
      "source": [
        "(mat @ b).shape"
      ]
    },
    {
      "cell_type": "markdown",
      "metadata": {
        "id": "ch9Mn6WqPkoY"
      },
      "source": [
        "As long as two shapes follow the matrix multiplication rules, it returns a 1d-array.\n",
        "\n",
        "- Matrix-Matrix Product (2darray-2darray Product)"
      ]
    },
    {
      "cell_type": "code",
      "execution_count": 89,
      "metadata": {
        "colab": {
          "base_uri": "https://localhost:8080/"
        },
        "id": "OncaK7FWQnM5",
        "outputId": "79928d38-0cd9-47cb-c203-022fd5f876f1"
      },
      "outputs": [
        {
          "data": {
            "text/plain": [
              "array([[10, 13],\n",
              "       [22, 29]])"
            ]
          },
          "execution_count": 89,
          "metadata": {},
          "output_type": "execute_result"
        }
      ],
      "source": [
        "A @ B"
      ]
    },
    {
      "cell_type": "code",
      "execution_count": 90,
      "metadata": {
        "colab": {
          "base_uri": "https://localhost:8080/"
        },
        "id": "UxTVFF-4PlZ4",
        "outputId": "4c56daf6-ef7a-45b1-85b7-683d2a17087f"
      },
      "outputs": [
        {
          "data": {
            "text/plain": [
              "array([[10, 13],\n",
              "       [22, 29]])"
            ]
          },
          "execution_count": 90,
          "metadata": {},
          "output_type": "execute_result"
        }
      ],
      "source": [
        "np.matmul(A,B)"
      ]
    },
    {
      "cell_type": "code",
      "execution_count": 91,
      "metadata": {
        "colab": {
          "base_uri": "https://localhost:8080/"
        },
        "id": "aIr2-BXDTMMw",
        "outputId": "58ce5185-9e13-455a-9053-d3e6011a39c2"
      },
      "outputs": [
        {
          "data": {
            "text/plain": [
              "array([[1],\n",
              "       [1],\n",
              "       [1]])"
            ]
          },
          "execution_count": 91,
          "metadata": {},
          "output_type": "execute_result"
        }
      ],
      "source": [
        "b = b.reshape(-1,1)\n",
        "b\n",
        "# b.reshape(1,-1)"
      ]
    },
    {
      "cell_type": "code",
      "execution_count": 92,
      "metadata": {
        "colab": {
          "base_uri": "https://localhost:8080/"
        },
        "id": "tmbtW67iTMcQ",
        "outputId": "a24642e4-55db-4a87-f1d6-63583f04f29d"
      },
      "outputs": [
        {
          "data": {
            "text/plain": [
              "(3, 1)"
            ]
          },
          "execution_count": 92,
          "metadata": {},
          "output_type": "execute_result"
        }
      ],
      "source": [
        "b.shape"
      ]
    },
    {
      "cell_type": "code",
      "execution_count": 93,
      "metadata": {
        "colab": {
          "base_uri": "https://localhost:8080/"
        },
        "id": "oCY3QB4XTdjP",
        "outputId": "6a33d299-79ea-4389-cbd8-204a83152722"
      },
      "outputs": [
        {
          "data": {
            "text/plain": [
              "(4, 1)"
            ]
          },
          "execution_count": 93,
          "metadata": {},
          "output_type": "execute_result"
        }
      ],
      "source": [
        "(mat @ b).shape"
      ]
    },
    {
      "cell_type": "markdown",
      "metadata": {
        "id": "uFTyEHtqTkxY"
      },
      "source": [
        "It returns a 2d-array following the multiplication rules.\n",
        "\n",
        "- Matrix Transpose"
      ]
    },
    {
      "cell_type": "code",
      "execution_count": 94,
      "metadata": {
        "colab": {
          "base_uri": "https://localhost:8080/"
        },
        "id": "2ImD0FNHTkI2",
        "outputId": "1439b4c9-7609-460e-d8d8-5b4b791c3826"
      },
      "outputs": [
        {
          "data": {
            "text/plain": [
              "array([[ 1,  4,  7, 10],\n",
              "       [ 2,  5,  8, 11],\n",
              "       [ 3,  9,  9, 12]])"
            ]
          },
          "execution_count": 94,
          "metadata": {},
          "output_type": "execute_result"
        }
      ],
      "source": [
        "mat.T"
      ]
    },
    {
      "cell_type": "markdown",
      "metadata": {
        "id": "zWxuF8GKTvdf"
      },
      "source": [
        "#### 3. Eigenvalues and Eigenvectors\n",
        "\n",
        "[`np.linalg.eig`](https://numpy.org/doc/stable/reference/generated/numpy.linalg.eig.html)\n",
        "\n"
      ]
    },
    {
      "cell_type": "code",
      "execution_count": 95,
      "metadata": {
        "colab": {
          "base_uri": "https://localhost:8080/"
        },
        "id": "2jRbHesQTzAn",
        "outputId": "fc6a8fd9-4134-4bc4-e4ce-24e5c5243402"
      },
      "outputs": [
        {
          "name": "stdout",
          "output_type": "stream",
          "text": [
            "[[0.60597828 0.73336936 0.13894716]\n",
            " [0.31267308 0.99724328 0.12816238]\n",
            " [0.17899311 0.75292543 0.66216051]]\n"
          ]
        }
      ],
      "source": [
        "# set a random seed\n",
        "np.random.seed(2021)\n",
        "# Create a 3 by 3 random matrix\n",
        "A = np.random.rand(3,3)\n",
        "print(A)\n",
        "\n",
        "# Compute eigenvalues and eigenvectors\n",
        "eigenvals, eigenvecs = np.linalg.eig(A)"
      ]
    },
    {
      "cell_type": "code",
      "execution_count": 96,
      "metadata": {
        "colab": {
          "base_uri": "https://localhost:8080/"
        },
        "id": "2M2avFIiT1L3",
        "outputId": "83ba2836-c2cb-4462-ae38-5a9cabad1cb3"
      },
      "outputs": [
        {
          "data": {
            "text/plain": [
              "array([1.46993771, 0.28721889, 0.50822548])"
            ]
          },
          "execution_count": 96,
          "metadata": {},
          "output_type": "execute_result"
        }
      ],
      "source": [
        "eigenvals"
      ]
    },
    {
      "cell_type": "code",
      "execution_count": 97,
      "metadata": {
        "colab": {
          "base_uri": "https://localhost:8080/"
        },
        "id": "gX79Zj5UT14_",
        "outputId": "9397bf70-586a-4be3-d0c2-1d0a23c75848"
      },
      "outputs": [
        {
          "data": {
            "text/plain": [
              "array([[-0.55986774, -0.76336389, -0.14005302],\n",
              "       [-0.54059029,  0.42411145, -0.16626493],\n",
              "       [-0.62794128, -0.48724229,  0.97608459]])"
            ]
          },
          "execution_count": 97,
          "metadata": {},
          "output_type": "execute_result"
        }
      ],
      "source": [
        "eigenvecs"
      ]
    },
    {
      "cell_type": "markdown",
      "metadata": {
        "id": "e0_OaBfzTwDY"
      },
      "source": [
        "Note that only if all the eigenvectors are linearly independent, we have the eigendecomposition $A = U\\Sigma U^\\top$.\n",
        "\n",
        "\n",
        "#### 4. Sigular Value Decomposition (SVD)\n",
        "\n",
        "[`np.linalg.svd`](https://numpy.org/doc/stable/reference/generated/numpy.linalg.svd.html)"
      ]
    },
    {
      "cell_type": "code",
      "execution_count": 98,
      "metadata": {
        "id": "YVnbXPp6T8vI"
      },
      "outputs": [],
      "source": [
        "# Create a 5 by 3 random matrix\n",
        "A = np.random.randn(5, 3)\n",
        "# Singular Value Decomposition\n",
        "U, S, Vt = np.linalg.svd(A, full_matrices=True)"
      ]
    },
    {
      "cell_type": "code",
      "execution_count": 99,
      "metadata": {
        "colab": {
          "base_uri": "https://localhost:8080/"
        },
        "id": "LyEotyVwT9Up",
        "outputId": "7f218112-3d7d-4ef7-fcd9-1bf0dee52a04"
      },
      "outputs": [
        {
          "data": {
            "text/plain": [
              "(array([[ 0.22073128, -0.03043587,  0.16712615, -0.89000162,  0.36099491],\n",
              "        [-0.11471826,  0.92761524, -0.33552023, -0.09536938,  0.06856048],\n",
              "        [ 0.22007922,  0.12998267,  0.32382857,  0.43547724,  0.80010267],\n",
              "        [ 0.68167637, -0.16826726, -0.70307225,  0.0763847 ,  0.08281451],\n",
              "        [-0.65192015, -0.30560473, -0.51021515, -0.057678  ,  0.46686145]]),\n",
              " (5, 5))"
            ]
          },
          "execution_count": 99,
          "metadata": {},
          "output_type": "execute_result"
        }
      ],
      "source": [
        "U, U.shape"
      ]
    },
    {
      "cell_type": "code",
      "execution_count": 100,
      "metadata": {
        "colab": {
          "base_uri": "https://localhost:8080/"
        },
        "id": "bQwsi7dkT_wg",
        "outputId": "436aaa23-c502-41c7-e6e9-7e6967342f9a"
      },
      "outputs": [
        {
          "data": {
            "text/plain": [
              "(array([3.36166521, 2.40725415, 1.48282724]), (3,))"
            ]
          },
          "execution_count": 100,
          "metadata": {},
          "output_type": "execute_result"
        }
      ],
      "source": [
        "S, S.shape"
      ]
    },
    {
      "cell_type": "code",
      "execution_count": 101,
      "metadata": {
        "colab": {
          "base_uri": "https://localhost:8080/"
        },
        "id": "WKDJy-FjUBSJ",
        "outputId": "1a157a3c-808b-4c1b-d6fd-4ad8686ee0c4"
      },
      "outputs": [
        {
          "data": {
            "text/plain": [
              "(array([[-0.5160804 ,  0.28883446, -0.80637193],\n",
              "        [ 0.19164251,  0.95649989,  0.21995704],\n",
              "        [ 0.83482583, -0.04101963, -0.5489838 ]]),\n",
              " (3, 3))"
            ]
          },
          "execution_count": 101,
          "metadata": {},
          "output_type": "execute_result"
        }
      ],
      "source": [
        "Vt, Vt.shape"
      ]
    },
    {
      "cell_type": "markdown",
      "metadata": {
        "id": "FVZPJATqUEVQ"
      },
      "source": [
        "#### 5. Norms\n",
        "\n",
        "[`np.linalg.norm`](https://numpy.org/doc/stable/reference/generated/numpy.linalg.norm.html)`(x, ord=None, axis=None, keepdims=False)`\n",
        "\n",
        "Below are several useful norms in this class\n",
        "\n",
        "| ord  | matrix norm                     | vector norm |\n",
        "| ---- | ------------------------------- | ----------- |\n",
        "| None | Frobenius norm                  | 2-norm      |\n",
        "| 1    | max(sum(abs(x), axis=0))        | 1-norm      |\n",
        "| 2    | 2-norm (largest singular value) | 2-norm      |\n",
        "| inf  | max(sum(abs(x), axis=1))        | max(abs(x)) |\n",
        "| 0    | –                               | sum(x != 0) |"
      ]
    },
    {
      "cell_type": "code",
      "execution_count": 102,
      "metadata": {
        "colab": {
          "base_uri": "https://localhost:8080/"
        },
        "id": "4zDGmIU_UDvA",
        "outputId": "ef73c7c3-0a74-4c36-9654-781ea5753ed6"
      },
      "outputs": [
        {
          "data": {
            "text/plain": [
              "4.392543930507632"
            ]
          },
          "execution_count": 102,
          "metadata": {},
          "output_type": "execute_result"
        }
      ],
      "source": [
        "np.linalg.norm(A) # Frobenius norm"
      ]
    },
    {
      "cell_type": "code",
      "execution_count": 103,
      "metadata": {
        "colab": {
          "base_uri": "https://localhost:8080/"
        },
        "id": "iCXlCZqrUI2p",
        "outputId": "81193c38-8910-4f9b-cea1-d5f12b607b8a"
      },
      "outputs": [
        {
          "data": {
            "text/plain": [
              "3.0"
            ]
          },
          "execution_count": 103,
          "metadata": {},
          "output_type": "execute_result"
        }
      ],
      "source": [
        "np.linalg.norm(b, 1) # L1-norm for vector b"
      ]
    },
    {
      "cell_type": "markdown",
      "metadata": {
        "id": "07QQgWCMVzrA"
      },
      "source": [
        "#### Random Variables\n",
        "\n",
        "Draw random samples from a normal (Gaussian) distribution.\n",
        "\n",
        "`np.random.normal(loc=0.0, scale=1.0, size=None)`\n",
        "\n",
        "loc: float or array_like of floats\n",
        "Mean (“centre”) of the distribution.\n",
        "\n",
        "scale: float or array_like of floats\n",
        "Standard deviation (spread or “width”) of the distribution. Must be non-negative.\n",
        "\n",
        "size: int or tuple of ints, optional\n",
        "Output shape. If the given shape is, e.g., (m, n, k), then m * n * k samples are drawn. If size is None (default), a single value is returned if loc and scale are both scalars. Otherwise, np.broadcast(loc, scale).size samples are drawn."
      ]
    },
    {
      "cell_type": "code",
      "execution_count": 104,
      "metadata": {
        "id": "BTd38g-AV7fa"
      },
      "outputs": [],
      "source": [
        "import numpy as np"
      ]
    },
    {
      "cell_type": "code",
      "execution_count": 105,
      "metadata": {
        "colab": {
          "base_uri": "https://localhost:8080/"
        },
        "id": "Pl3cppvuV9EP",
        "outputId": "887bbdc8-eb8e-4251-c0cb-ccd6c25c8ade"
      },
      "outputs": [
        {
          "name": "stdout",
          "output_type": "stream",
          "text": [
            "[[-2.68680391  0.55787157  0.77617621  0.20264991 -0.50735635]\n",
            " [ 1.05898217  0.46323535  0.49699852 -1.25014539 -1.51195802]\n",
            " [ 0.89457475  0.24281041  1.00678612 -0.04124402  0.34396583]\n",
            " [ 0.02548591 -1.07844433  0.81565795 -0.13376737  0.61319221]\n",
            " [ 0.32808139  1.7748439   1.15295013  1.02961911 -0.50175762]\n",
            " [-1.09042286 -1.10397942 -0.64776684 -0.82386881 -0.97420544]\n",
            " [ 0.42570077  1.59288883 -1.2010321  -1.76059321 -0.8979381 ]\n",
            " [-0.21097685  1.78542198  0.31632373  0.42776574  1.32762063]\n",
            " [ 0.42865209 -0.80177471 -1.40404436  0.4366976   0.86278299]\n",
            " [-0.48927924  1.50419932 -1.05216008 -1.47562916  0.92864955]]\n"
          ]
        }
      ],
      "source": [
        "n=10 ## number of samples\n",
        "p=5 ## dimension\n",
        "Z=np.random.normal(0,1,size=(n,p))\n",
        "print(Z)"
      ]
    },
    {
      "cell_type": "markdown",
      "metadata": {
        "id": "seYMVDMzWGb_"
      },
      "source": [
        "In the code above, we generate a $n\\times p$ matrix $Z$ whose entries are i.i.d. samples from standard Gaussian distribution. If we want to generate $n$ samples from the multivariate normal distribution with mean zero and some specified covariance matrix $\\Sigma$, then we can multiply $Z$ by the square root of the covariance matrix, i.e.\n",
        "$$X=Z\\Sigma^{\\frac{1}{2}}\\in\\mathbb{R}^{n\\times p}$$\n",
        "By properties of multivariate normal distribution, then each row of $X$ is a sample from multivariate normal distribution with covariance matrix $\\Sigma$."
      ]
    },
    {
      "cell_type": "code",
      "execution_count": 106,
      "metadata": {
        "colab": {
          "base_uri": "https://localhost:8080/"
        },
        "id": "bxQvk-p1WKXX",
        "outputId": "02f0919a-590a-4506-cdb1-a3d608568804"
      },
      "outputs": [
        {
          "name": "stdout",
          "output_type": "stream",
          "text": [
            "[[5. 0. 0. 0. 0.]\n",
            " [0. 5. 0. 0. 0.]\n",
            " [0. 0. 5. 0. 0.]\n",
            " [0. 0. 0. 5. 0.]\n",
            " [0. 0. 0. 0. 5.]]\n",
            "[[-13.43401957   2.78935784   3.88088105   1.01324957  -2.53678177]\n",
            " [  5.29491087   2.31617676   2.4849926   -6.25072696  -7.55979012]\n",
            " [  4.47287377   1.21405207   5.03393061  -0.20622012   1.71982915]\n",
            " [  0.12742956  -5.39222167   4.07828977  -0.66883685   3.06596105]\n",
            " [  1.64040697   8.87421949   5.76475063   5.14809554  -2.5087881 ]\n",
            " [ -5.45211431  -5.51989708  -3.23883419  -4.11934406  -4.87102721]\n",
            " [  2.12850386   7.96444413  -6.00516048  -8.80296605  -4.4896905 ]\n",
            " [ -1.05488426   8.92710991   1.58161866   2.13882868   6.63810317]\n",
            " [  2.14326046  -4.00887353  -7.02022181   2.18348798   4.31391497]\n",
            " [ -2.44639619   7.5209966   -5.26080041  -7.37814582   4.64324774]]\n",
            "(10, 5)\n"
          ]
        }
      ],
      "source": [
        "Sigmasqrt = 5*np.identity(p) ## This can be other symmetric positive definite matrices\n",
        "print(Sigmasqrt)\n",
        "X = np.matmul(Z,Sigmasqrt)\n",
        "print(X)\n",
        "print(X.shape)"
      ]
    },
    {
      "cell_type": "markdown",
      "metadata": {
        "id": "b0A0Rld4WMuQ"
      },
      "source": [
        "Function `np.random.multivariate_normal()` will do the same thing above. This function will return one sample (samples) from multivariate normal distribution with specified mean vector and covariance matrix."
      ]
    },
    {
      "cell_type": "code",
      "execution_count": 107,
      "metadata": {
        "colab": {
          "base_uri": "https://localhost:8080/"
        },
        "id": "yINGmP2SWQyn",
        "outputId": "9ab87440-b7a6-4f95-ba66-54bc99d10651"
      },
      "outputs": [
        {
          "name": "stdout",
          "output_type": "stream",
          "text": [
            "[[16.  5.  0.  0.  0.]\n",
            " [ 5. 16.  5.  0.  0.]\n",
            " [ 0.  5. 16.  5.  0.]\n",
            " [ 0.  0.  5. 16.  5.]\n",
            " [ 0.  0.  0.  5. 16.]]\n",
            "[[-1.14230096]\n",
            " [ 7.97492267]\n",
            " [ 2.12671097]\n",
            " [ 0.17632685]\n",
            " [ 2.75735767]]\n"
          ]
        }
      ],
      "source": [
        "Omega = np.identity(p)*16\n",
        "for i in range(p-1):\n",
        "  Omega[i,i+1] = 5\n",
        "  Omega[i+1,i] = 5\n",
        "print(Omega)\n",
        "beta = np.matrix(np.random.multivariate_normal(mean=np.zeros(p),cov=Omega)).T\n",
        "print(beta)"
      ]
    }
  ],
  "metadata": {
    "colab": {
      "provenance": []
    },
    "kernelspec": {
      "display_name": "Python 3",
      "language": "python",
      "name": "python3"
    },
    "language_info": {
      "codemirror_mode": {
        "name": "ipython",
        "version": 3
      },
      "file_extension": ".py",
      "mimetype": "text/x-python",
      "name": "python",
      "nbconvert_exporter": "python",
      "pygments_lexer": "ipython3",
      "version": "3.9.2"
    }
  },
  "nbformat": 4,
  "nbformat_minor": 0
}
